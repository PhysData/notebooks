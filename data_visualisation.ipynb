{
 "cells": [
  {
   "cell_type": "markdown",
   "id": "483296f6",
   "metadata": {},
   "source": [
    "<font color=green>**This is a draft version of the notebook, I will continue to add plots and explanations over time.**</font>"
   ]
  },
  {
   "cell_type": "markdown",
   "id": "1f35b0c6",
   "metadata": {},
   "source": [
    "# Data Visualisation"
   ]
  },
  {
   "cell_type": "markdown",
   "id": "04c45327",
   "metadata": {},
   "source": [
    "## Introduction"
   ]
  },
  {
   "cell_type": "markdown",
   "id": "4a5c6d69",
   "metadata": {},
   "source": [
    "### Why Visualise Data?\n",
    "Visualisation is an essential component of data science, used to emphasise patterns, structures and outliers hidden in large quantities of numerical data. This aims to communicate key insights obtained by data analysis in a visual and intuitive way, such that they can be easily understood by other physicists, business professionals, managers and even the general public.\n",
    "\n",
    "This includes, but is not limited to:\n",
    "\n",
    "- Graphs\n",
    "- Charts\n",
    "- Simulations\n",
    "- Plots\n",
    "- Infograpics"
   ]
  },
  {
   "cell_type": "markdown",
   "id": "d933cfb8",
   "metadata": {},
   "source": [
    "### External Libraries\n",
    "The objects mentioned above are typically provided by specialised data visualisation **libraries**, which are third-party collections of pre-written code that can be imported and utilised. Although only **Python** will be used in this demonstration, the **R** programming language is a similarly powerful tool for visualising data and a few of the most commonly used libraries for both are given in Table (1) below. \n",
    "\n",
    "Developed by Guido van Rossum, Python is a high-level, general-purpose language released in 1991.\n",
    "\n",
    "| &nbsp; &nbsp; &nbsp; &nbsp; &nbsp; Python &nbsp; &nbsp; &nbsp; &nbsp; &nbsp; | &nbsp; &nbsp; &nbsp; &nbsp; &nbsp; &nbsp; R &nbsp; &nbsp; &nbsp; &nbsp; &nbsp; &nbsp;|\n",
    "| :-: | :-: |\n",
    "| Matplotlib | ggplot2 |\n",
    "| Seaborn | Lattice |\n",
    "| ggplot | Plotly |\n",
    "\n",
    "Table (1): Most common data visualisation libraries for Python and R."
   ]
  },
  {
   "cell_type": "markdown",
   "id": "ca062fba",
   "metadata": {},
   "source": [
    "## Demonstration"
   ]
  },
  {
   "cell_type": "markdown",
   "id": "0e66292d",
   "metadata": {},
   "source": [
    "### Import Seaborn"
   ]
  },
  {
   "cell_type": "code",
   "execution_count": 5,
   "id": "3b5b9c05",
   "metadata": {},
   "outputs": [],
   "source": [
    "import seaborn as sns"
   ]
  },
  {
   "cell_type": "markdown",
   "id": "aed39b93",
   "metadata": {},
   "source": [
    "### Import Matplotlib"
   ]
  },
  {
   "cell_type": "code",
   "execution_count": 6,
   "id": "cc058f83",
   "metadata": {},
   "outputs": [],
   "source": [
    "import matplotlib.pyplot as plt"
   ]
  }
 ],
 "metadata": {
  "kernelspec": {
   "display_name": "Python 3 (ipykernel)",
   "language": "python",
   "name": "python3"
  },
  "language_info": {
   "codemirror_mode": {
    "name": "ipython",
    "version": 3
   },
   "file_extension": ".py",
   "mimetype": "text/x-python",
   "name": "python",
   "nbconvert_exporter": "python",
   "pygments_lexer": "ipython3",
   "version": "3.9.13"
  }
 },
 "nbformat": 4,
 "nbformat_minor": 5
}
